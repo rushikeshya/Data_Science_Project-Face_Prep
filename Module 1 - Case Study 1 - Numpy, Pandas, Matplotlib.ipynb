{
 "cells": [
  {
   "cell_type": "markdown",
   "id": "473ea04e",
   "metadata": {},
   "source": [
    "# Case Study 1 - Numpy, Pandas, Matplotlib\n",
    "\n",
    "#### Final Approach:- \n",
    "#### 1)Which city had highest number of sales?\n",
    "#### 2)Highest selling products. Which products are sold the most?"
   ]
  },
  {
   "cell_type": "markdown",
   "id": "13a52862",
   "metadata": {},
   "source": [
    "### Importing  library and Dataset"
   ]
  },
  {
   "cell_type": "code",
   "execution_count": 1,
   "id": "6d1e10b6",
   "metadata": {},
   "outputs": [],
   "source": [
    "import numpy as np\n",
    "import pandas as pd\n",
    "import matplotlib.pyplot as plt\n",
    "import warnings\n",
    "warnings.filterwarnings(\"ignore\")"
   ]
  },
  {
   "cell_type": "code",
   "execution_count": 2,
   "id": "c897ae7e",
   "metadata": {},
   "outputs": [],
   "source": [
    "df = pd.read_csv(\"Sales.csv\")"
   ]
  },
  {
   "cell_type": "code",
   "execution_count": 3,
   "id": "8a7484e1",
   "metadata": {},
   "outputs": [
    {
     "data": {
      "text/html": [
       "<div>\n",
       "<style scoped>\n",
       "    .dataframe tbody tr th:only-of-type {\n",
       "        vertical-align: middle;\n",
       "    }\n",
       "\n",
       "    .dataframe tbody tr th {\n",
       "        vertical-align: top;\n",
       "    }\n",
       "\n",
       "    .dataframe thead th {\n",
       "        text-align: right;\n",
       "    }\n",
       "</style>\n",
       "<table border=\"1\" class=\"dataframe\">\n",
       "  <thead>\n",
       "    <tr style=\"text-align: right;\">\n",
       "      <th></th>\n",
       "      <th>Order ID</th>\n",
       "      <th>Product</th>\n",
       "      <th>Quantity Ordered</th>\n",
       "      <th>Price Each</th>\n",
       "      <th>Order Date</th>\n",
       "      <th>Purchase Address</th>\n",
       "    </tr>\n",
       "  </thead>\n",
       "  <tbody>\n",
       "    <tr>\n",
       "      <th>0</th>\n",
       "      <td>141234</td>\n",
       "      <td>iPhone</td>\n",
       "      <td>1</td>\n",
       "      <td>700</td>\n",
       "      <td>01/22/19 21:25</td>\n",
       "      <td>944 Walnut St, Boston, MA 02215</td>\n",
       "    </tr>\n",
       "    <tr>\n",
       "      <th>1</th>\n",
       "      <td>141235</td>\n",
       "      <td>Lightning Charging Cable</td>\n",
       "      <td>1</td>\n",
       "      <td>14.95</td>\n",
       "      <td>01/28/19 14:15</td>\n",
       "      <td>185 Maple St, Portland, OR 97035</td>\n",
       "    </tr>\n",
       "    <tr>\n",
       "      <th>2</th>\n",
       "      <td>141236</td>\n",
       "      <td>Wired Headphones</td>\n",
       "      <td>2</td>\n",
       "      <td>11.99</td>\n",
       "      <td>01/17/19 13:33</td>\n",
       "      <td>538 Adams St, San Francisco, CA 94016</td>\n",
       "    </tr>\n",
       "    <tr>\n",
       "      <th>3</th>\n",
       "      <td>141237</td>\n",
       "      <td>27in FHD Monitor</td>\n",
       "      <td>1</td>\n",
       "      <td>149.99</td>\n",
       "      <td>01/05/19 20:33</td>\n",
       "      <td>738 10th St, Los Angeles, CA 90001</td>\n",
       "    </tr>\n",
       "    <tr>\n",
       "      <th>4</th>\n",
       "      <td>141238</td>\n",
       "      <td>Wired Headphones</td>\n",
       "      <td>1</td>\n",
       "      <td>11.99</td>\n",
       "      <td>01/25/19 11:59</td>\n",
       "      <td>387 10th St, Austin, TX 73301</td>\n",
       "    </tr>\n",
       "  </tbody>\n",
       "</table>\n",
       "</div>"
      ],
      "text/plain": [
       "  Order ID                   Product Quantity Ordered Price Each  \\\n",
       "0   141234                    iPhone                1        700   \n",
       "1   141235  Lightning Charging Cable                1      14.95   \n",
       "2   141236          Wired Headphones                2      11.99   \n",
       "3   141237          27in FHD Monitor                1     149.99   \n",
       "4   141238          Wired Headphones                1      11.99   \n",
       "\n",
       "       Order Date                       Purchase Address  \n",
       "0  01/22/19 21:25        944 Walnut St, Boston, MA 02215  \n",
       "1  01/28/19 14:15       185 Maple St, Portland, OR 97035  \n",
       "2  01/17/19 13:33  538 Adams St, San Francisco, CA 94016  \n",
       "3  01/05/19 20:33     738 10th St, Los Angeles, CA 90001  \n",
       "4  01/25/19 11:59          387 10th St, Austin, TX 73301  "
      ]
     },
     "execution_count": 3,
     "metadata": {},
     "output_type": "execute_result"
    }
   ],
   "source": [
    "df.head()"
   ]
  },
  {
   "cell_type": "code",
   "execution_count": 4,
   "id": "38295fd2",
   "metadata": {},
   "outputs": [
    {
     "data": {
      "text/plain": [
       "(9723, 6)"
      ]
     },
     "execution_count": 4,
     "metadata": {},
     "output_type": "execute_result"
    }
   ],
   "source": [
    "df.shape"
   ]
  },
  {
   "cell_type": "code",
   "execution_count": 5,
   "id": "dda0c4b2",
   "metadata": {},
   "outputs": [
    {
     "data": {
      "text/html": [
       "<div>\n",
       "<style scoped>\n",
       "    .dataframe tbody tr th:only-of-type {\n",
       "        vertical-align: middle;\n",
       "    }\n",
       "\n",
       "    .dataframe tbody tr th {\n",
       "        vertical-align: top;\n",
       "    }\n",
       "\n",
       "    .dataframe thead th {\n",
       "        text-align: right;\n",
       "    }\n",
       "</style>\n",
       "<table border=\"1\" class=\"dataframe\">\n",
       "  <thead>\n",
       "    <tr style=\"text-align: right;\">\n",
       "      <th></th>\n",
       "      <th>Order ID</th>\n",
       "      <th>Product</th>\n",
       "      <th>Quantity Ordered</th>\n",
       "      <th>Price Each</th>\n",
       "      <th>Order Date</th>\n",
       "      <th>Purchase Address</th>\n",
       "    </tr>\n",
       "  </thead>\n",
       "  <tbody>\n",
       "    <tr>\n",
       "      <th>0</th>\n",
       "      <td>141234</td>\n",
       "      <td>iPhone</td>\n",
       "      <td>1</td>\n",
       "      <td>700</td>\n",
       "      <td>01/22/19 21:25</td>\n",
       "      <td>944 Walnut St, Boston, MA 02215</td>\n",
       "    </tr>\n",
       "    <tr>\n",
       "      <th>1</th>\n",
       "      <td>141235</td>\n",
       "      <td>Lightning Charging Cable</td>\n",
       "      <td>1</td>\n",
       "      <td>14.95</td>\n",
       "      <td>01/28/19 14:15</td>\n",
       "      <td>185 Maple St, Portland, OR 97035</td>\n",
       "    </tr>\n",
       "    <tr>\n",
       "      <th>2</th>\n",
       "      <td>141236</td>\n",
       "      <td>Wired Headphones</td>\n",
       "      <td>2</td>\n",
       "      <td>11.99</td>\n",
       "      <td>01/17/19 13:33</td>\n",
       "      <td>538 Adams St, San Francisco, CA 94016</td>\n",
       "    </tr>\n",
       "    <tr>\n",
       "      <th>3</th>\n",
       "      <td>141237</td>\n",
       "      <td>27in FHD Monitor</td>\n",
       "      <td>1</td>\n",
       "      <td>149.99</td>\n",
       "      <td>01/05/19 20:33</td>\n",
       "      <td>738 10th St, Los Angeles, CA 90001</td>\n",
       "    </tr>\n",
       "    <tr>\n",
       "      <th>4</th>\n",
       "      <td>141238</td>\n",
       "      <td>Wired Headphones</td>\n",
       "      <td>1</td>\n",
       "      <td>11.99</td>\n",
       "      <td>01/25/19 11:59</td>\n",
       "      <td>387 10th St, Austin, TX 73301</td>\n",
       "    </tr>\n",
       "    <tr>\n",
       "      <th>...</th>\n",
       "      <td>...</td>\n",
       "      <td>...</td>\n",
       "      <td>...</td>\n",
       "      <td>...</td>\n",
       "      <td>...</td>\n",
       "      <td>...</td>\n",
       "    </tr>\n",
       "    <tr>\n",
       "      <th>9718</th>\n",
       "      <td>150497</td>\n",
       "      <td>20in Monitor</td>\n",
       "      <td>1</td>\n",
       "      <td>109.99</td>\n",
       "      <td>01/26/19 19:09</td>\n",
       "      <td>95 8th St, Dallas, TX 75001</td>\n",
       "    </tr>\n",
       "    <tr>\n",
       "      <th>9719</th>\n",
       "      <td>150498</td>\n",
       "      <td>27in FHD Monitor</td>\n",
       "      <td>1</td>\n",
       "      <td>149.99</td>\n",
       "      <td>01/10/19 22:58</td>\n",
       "      <td>403 7th St, San Francisco, CA 94016</td>\n",
       "    </tr>\n",
       "    <tr>\n",
       "      <th>9720</th>\n",
       "      <td>150499</td>\n",
       "      <td>ThinkPad Laptop</td>\n",
       "      <td>1</td>\n",
       "      <td>999.99</td>\n",
       "      <td>01/21/19 14:31</td>\n",
       "      <td>214 Main St, Portland, OR 97035</td>\n",
       "    </tr>\n",
       "    <tr>\n",
       "      <th>9721</th>\n",
       "      <td>150500</td>\n",
       "      <td>AAA Batteries (4-pack)</td>\n",
       "      <td>2</td>\n",
       "      <td>2.99</td>\n",
       "      <td>01/15/19 14:21</td>\n",
       "      <td>810 2nd St, Los Angeles, CA 90001</td>\n",
       "    </tr>\n",
       "    <tr>\n",
       "      <th>9722</th>\n",
       "      <td>150501</td>\n",
       "      <td>Google Phone</td>\n",
       "      <td>1</td>\n",
       "      <td>600</td>\n",
       "      <td>01/13/19 16:43</td>\n",
       "      <td>428 Cedar St, Boston, MA 02215</td>\n",
       "    </tr>\n",
       "  </tbody>\n",
       "</table>\n",
       "<p>9723 rows × 6 columns</p>\n",
       "</div>"
      ],
      "text/plain": [
       "     Order ID                   Product Quantity Ordered Price Each  \\\n",
       "0      141234                    iPhone                1        700   \n",
       "1      141235  Lightning Charging Cable                1      14.95   \n",
       "2      141236          Wired Headphones                2      11.99   \n",
       "3      141237          27in FHD Monitor                1     149.99   \n",
       "4      141238          Wired Headphones                1      11.99   \n",
       "...       ...                       ...              ...        ...   \n",
       "9718   150497              20in Monitor                1     109.99   \n",
       "9719   150498          27in FHD Monitor                1     149.99   \n",
       "9720   150499           ThinkPad Laptop                1     999.99   \n",
       "9721   150500    AAA Batteries (4-pack)                2       2.99   \n",
       "9722   150501              Google Phone                1        600   \n",
       "\n",
       "          Order Date                       Purchase Address  \n",
       "0     01/22/19 21:25        944 Walnut St, Boston, MA 02215  \n",
       "1     01/28/19 14:15       185 Maple St, Portland, OR 97035  \n",
       "2     01/17/19 13:33  538 Adams St, San Francisco, CA 94016  \n",
       "3     01/05/19 20:33     738 10th St, Los Angeles, CA 90001  \n",
       "4     01/25/19 11:59          387 10th St, Austin, TX 73301  \n",
       "...              ...                                    ...  \n",
       "9718  01/26/19 19:09            95 8th St, Dallas, TX 75001  \n",
       "9719  01/10/19 22:58    403 7th St, San Francisco, CA 94016  \n",
       "9720  01/21/19 14:31        214 Main St, Portland, OR 97035  \n",
       "9721  01/15/19 14:21      810 2nd St, Los Angeles, CA 90001  \n",
       "9722  01/13/19 16:43         428 Cedar St, Boston, MA 02215  \n",
       "\n",
       "[9723 rows x 6 columns]"
      ]
     },
     "execution_count": 5,
     "metadata": {},
     "output_type": "execute_result"
    }
   ],
   "source": [
    "df"
   ]
  },
  {
   "cell_type": "markdown",
   "id": "7e7f0852",
   "metadata": {},
   "source": [
    "#### Converting the 'Price Each' column to numeric data type"
   ]
  },
  {
   "cell_type": "code",
   "execution_count": 6,
   "id": "77072c87",
   "metadata": {},
   "outputs": [
    {
     "name": "stdout",
     "output_type": "stream",
     "text": [
      "float64\n"
     ]
    }
   ],
   "source": [
    "df['Price Each'] = pd.to_numeric(df['Price Each'], errors='coerce')\n",
    "print(df['Price Each'].dtype)"
   ]
  },
  {
   "cell_type": "markdown",
   "id": "35c6a097",
   "metadata": {},
   "source": [
    "#### Converting the 'Quantity Ordered' column to numeric data type"
   ]
  },
  {
   "cell_type": "code",
   "execution_count": 7,
   "id": "dcc455b5",
   "metadata": {},
   "outputs": [
    {
     "name": "stdout",
     "output_type": "stream",
     "text": [
      "float64\n"
     ]
    }
   ],
   "source": [
    "df['Quantity Ordered'] = pd.to_numeric(df['Quantity Ordered'], errors='coerce')\n",
    "print(df['Quantity Ordered'].dtype)\n"
   ]
  },
  {
   "cell_type": "markdown",
   "id": "0e55abd0",
   "metadata": {},
   "source": [
    "#### Calculating the total sales for each product"
   ]
  },
  {
   "cell_type": "code",
   "execution_count": 8,
   "id": "a956b2d4",
   "metadata": {},
   "outputs": [],
   "source": [
    "df['Total Sales'] = df['Quantity Ordered'] * df['Price Each']\n",
    "product_sales = df.groupby('Product')['Total Sales'].sum().reset_index(name='Total Sales')"
   ]
  },
  {
   "cell_type": "markdown",
   "id": "dfe9a67c",
   "metadata": {},
   "source": [
    "#### Plotting a bar chart to visualize the total sales for each product"
   ]
  },
  {
   "cell_type": "code",
   "execution_count": 9,
   "id": "1adcb6a7",
   "metadata": {},
   "outputs": [
    {
     "data": {
      "image/png": "[encoded data removed]",
      "text/plain": [
       "<Figure size 432x288 with 1 Axes>"
      ]
     },
     "metadata": {
      "needs_background": "light"
     },
     "output_type": "display_data"
    }
   ],
   "source": [
    "plt.bar(product_sales['Product'], product_sales['Total Sales'])\n",
    "plt.xticks(rotation=90)\n",
    "plt.xlabel('Product')\n",
    "plt.ylabel('Total Sales')\n",
    "plt.show()"
   ]
  },
  {
   "cell_type": "markdown",
   "id": "42b5fefe",
   "metadata": {},
   "source": [
    "#### Calculating the total sales for each city"
   ]
  },
  {
   "cell_type": "code",
   "execution_count": 10,
   "id": "5ea87ace",
   "metadata": {},
   "outputs": [],
   "source": [
    "df['City'] = df[df['Purchase Address'].notnull()]['Purchase Address'].apply(lambda x: x.split(',')[1].strip() if len(x.split(',')) >= 2 else np.nan)\n",
    "city_sales = df.groupby('City')['Total Sales'].sum().reset_index(name='Total Sales')"
   ]
  },
  {
   "cell_type": "markdown",
   "id": "a43f0e85",
   "metadata": {},
   "source": [
    "#### Plotting a bar chart to visualize the total sales for each city"
   ]
  },
  {
   "cell_type": "code",
   "execution_count": 11,
   "id": "6be580aa",
   "metadata": {},
   "outputs": [
    {
     "data": {
      "image/png": "[encoded data removed]",
      "text/plain": [
       "<Figure size 432x288 with 1 Axes>"
      ]
     },
     "metadata": {
      "needs_background": "light"
     },
     "output_type": "display_data"
    }
   ],
   "source": [
    "plt.bar(city_sales['City'], city_sales['Total Sales'])\n",
    "plt.xticks(rotation=90)\n",
    "plt.xlabel('City')\n",
    "plt.ylabel('Total Sales')\n",
    "plt.show()"
   ]
  },
  {
   "cell_type": "code",
   "execution_count": 12,
   "id": "53d3d493",
   "metadata": {},
   "outputs": [],
   "source": [
    "clean_df = df.dropna()"
   ]
  },
  {
   "cell_type": "markdown",
   "id": "ff6eba51",
   "metadata": {},
   "source": [
    "#### convert columns to appropriate data types"
   ]
  },
  {
   "cell_type": "code",
   "execution_count": 13,
   "id": "ec558654",
   "metadata": {},
   "outputs": [],
   "source": [
    "clean_df['Price Each'] = pd.to_numeric(clean_df['Price Each'])\n",
    "clean_df['Quantity Ordered'] = pd.to_numeric(clean_df['Quantity Ordered'])"
   ]
  },
  {
   "cell_type": "markdown",
   "id": "1785a789",
   "metadata": {},
   "source": [
    "#### calculate sales"
   ]
  },
  {
   "cell_type": "code",
   "execution_count": 14,
   "id": "21be0cce",
   "metadata": {},
   "outputs": [],
   "source": [
    "clean_df['Total Sales'] = clean_df['Price Each'] * clean_df['Quantity Ordered']"
   ]
  },
  {
   "cell_type": "markdown",
   "id": "090cf70d",
   "metadata": {},
   "source": [
    "#### calculate average sales by product"
   ]
  },
  {
   "cell_type": "code",
   "execution_count": 15,
   "id": "fb9cb91f",
   "metadata": {},
   "outputs": [],
   "source": [
    "avg_sales = clean_df.groupby('Product')['Total Sales'].mean().reset_index(name='Average Sales')"
   ]
  },
  {
   "cell_type": "markdown",
   "id": "1f492cb8",
   "metadata": {},
   "source": [
    "#### Plotting a bar chart to visualize the average sales for each product"
   ]
  },
  {
   "cell_type": "code",
   "execution_count": 16,
   "id": "2aeed187",
   "metadata": {},
   "outputs": [
    {
     "data": {
      "image/png": "[encoded data removed]",
      "text/plain": [
       "<Figure size 432x288 with 1 Axes>"
      ]
     },
     "metadata": {
      "needs_background": "light"
     },
     "output_type": "display_data"
    }
   ],
   "source": [
    "plt.bar(avg_sales['Product'], avg_sales['Average Sales'])\n",
    "plt.xticks(rotation=90)\n",
    "plt.xlabel('Product')\n",
    "plt.ylabel('Average Sales')\n",
    "plt.show()"
   ]
  },
  {
   "cell_type": "markdown",
   "id": "3c0b3834",
   "metadata": {},
   "source": [
    "## Based on the analysis, the city with the highest number of sales is San Francisco, and the highest demand product is the Macbook Pro Laptop."
   ]
  },
  {
   "cell_type": "code",
   "execution_count": null,
   "id": "5f948a42",
   "metadata": {},
   "outputs": [],
   "source": []
  }
 ],
 "metadata": {
  "kernelspec": {
   "display_name": "Python 3 (ipykernel)",
   "language": "python",
   "name": "python3"
  },
  "language_info": {
   "codemirror_mode": {
    "name": "ipython",
    "version": 3
   },
   "file_extension": ".py",
   "mimetype": "text/x-python",
   "name": "python",
   "nbconvert_exporter": "python",
   "pygments_lexer": "ipython3",
   "version": "3.9.12"
  }
 },
 "nbformat": 4,
 "nbformat_minor": 5
}
